{
 "cells": [
  {
   "cell_type": "markdown",
   "source": [
    "## Binomial Model Hedging"
   ],
   "metadata": {
    "collapsed": false
   },
   "id": "b699521f3b2fe79e"
  },
  {
   "cell_type": "code",
   "outputs": [],
   "source": [
    "import numpy as np\n",
    "from math import floor\n",
    "import matplotlib.pyplot as plt"
   ],
   "metadata": {
    "collapsed": false,
    "ExecuteTime": {
     "end_time": "2025-01-06T13:53:22.460804Z",
     "start_time": "2025-01-06T13:53:22.457686Z"
    }
   },
   "id": "4b82263be58b0f7d",
   "execution_count": 5
  },
  {
   "cell_type": "code",
   "execution_count": 6,
   "id": "initial_id",
   "metadata": {
    "collapsed": true,
    "ExecuteTime": {
     "end_time": "2025-01-06T13:53:22.657951Z",
     "start_time": "2025-01-06T13:53:22.655352Z"
    }
   },
   "outputs": [],
   "source": [
    "# defining variables\n",
    "N_periods=5 #number of periods\n",
    "u=1.1 #the upward movement in stock\n",
    "d=0.9 #the downward movement in stock\n",
    "r=0.05 #the interest rate per period\n",
    "S0=100 #the initial stock price\n",
    "K=95  #the strike price\n",
    "S=np.zeros((N_periods+1,N_periods+1))\n",
    "for n in range(N_periods+1):\n",
    "    for m in range (n+1):\n",
    "        S[m,n]=S0*u**(n-m)*d**m\n",
    "#risk neutral probabilities\n",
    "qu=((1+r)-d)/(u-d)\n",
    "qd= 1- qu\n",
    "\n",
    "# pricing by backward induction\n",
    "option_price=np.zeros((N_periods+1,N_periods+1)) # matrix for the option price\n",
    "delta=np.zeros((N_periods+1,N_periods+1)) # matrix for delta of the option (replicating portfolio)"
   ]
  },
  {
   "cell_type": "code",
   "outputs": [
    {
     "name": "stdout",
     "output_type": "stream",
     "text": [
      "stock price \n",
      " [[100.    110.    121.    133.1   146.41  161.051]\n",
      " [  0.     90.     99.    108.9   119.79  131.769]\n",
      " [  0.      0.     81.     89.1    98.01  107.811]\n",
      " [  0.      0.      0.     72.9    80.19   88.209]\n",
      " [  0.      0.      0.      0.     65.61   72.171]\n",
      " [  0.      0.      0.      0.      0.     59.049]]\n",
      "option price \n",
      " [[ 0.75718622  0.33525447  0.09166127  0.          0.          0.        ]\n",
      " [ 0.          2.17441871  1.13308498  0.38497732  0.          0.        ]\n",
      " [ 0.          0.          5.73330364  3.60402494  1.61690476  0.        ]\n",
      " [ 0.          0.          0.         13.26780045 10.28619048  6.791     ]\n",
      " [ 0.          0.          0.          0.         24.86619048 22.829     ]\n",
      " [ 0.          0.          0.          0.          0.         35.951     ]]\n",
      "delta of the option \n",
      " [[-0.09195821 -0.04733744 -0.01590815  0.          0.          0.        ]\n",
      " [ 0.         -0.2555677  -0.16257816 -0.07423805  0.          0.        ]\n",
      " [ 0.          0.         -0.59652935 -0.4864919  -0.34644424  0.        ]\n",
      " [ 0.          0.          0.         -1.         -1.          0.        ]\n",
      " [ 0.          0.          0.          0.         -1.          0.        ]\n",
      " [ 0.          0.          0.          0.          0.          0.        ]]\n",
      "the price of the option at time 0 is 0.7571862204191322\n",
      "the Delta at time 0 is -0.09195821185617095\n"
     ]
    }
   ],
   "source": [
    "# Computing payoff payoff\n",
    "for m in range(N_periods+1): #set the last column of the option price matrix equal to the payoff of the option\n",
    "    option_price[m,N_periods]=max(K-S[m,N_periods],0) # the payoff of a call optionprint(\n",
    "for n in reversed(range(N_periods)): # go backward in time-to-maturity\n",
    "    for m in range(n+1):    #go through all stock prices at time-to-maturity n\n",
    "        option_price_up=option_price[m,n+1] # the value of the option if stock goes up\n",
    "        option_price_down=option_price[m+1,n+1] #the value of the option if stock goes down\n",
    "        delta[m,n]=(option_price_up-option_price_down)/(S[m,n]*(u-d)) #compute delta\n",
    "        option_price[m,n]=(option_price_up*qu+option_price_down*qd)/(1+r) #compute the current option price using risk-neutral pricing formula (the price is equal to expected discounted payoff)\n",
    "\n",
    "# display the results\n",
    "print('stock price \\n',S)\n",
    "print('option price \\n',option_price)\n",
    "print('delta of the option \\n',delta)\n",
    "print('the price of the option at time 0 is',option_price[0,0])\n",
    "print('the Delta at time 0 is',delta[0,0]) "
   ],
   "metadata": {
    "collapsed": false,
    "ExecuteTime": {
     "end_time": "2025-01-06T13:53:22.830564Z",
     "start_time": "2025-01-06T13:53:22.826803Z"
    }
   },
   "id": "de9c1e32ae7dcec3",
   "execution_count": 7
  },
  {
   "cell_type": "code",
   "outputs": [],
   "source": [],
   "metadata": {
    "collapsed": false
   },
   "id": "8cee0d8d1e947ead"
  }
 ],
 "metadata": {
  "kernelspec": {
   "display_name": "Python 3",
   "language": "python",
   "name": "python3"
  },
  "language_info": {
   "codemirror_mode": {
    "name": "ipython",
    "version": 2
   },
   "file_extension": ".py",
   "mimetype": "text/x-python",
   "name": "python",
   "nbconvert_exporter": "python",
   "pygments_lexer": "ipython2",
   "version": "2.7.6"
  }
 },
 "nbformat": 4,
 "nbformat_minor": 5
}
